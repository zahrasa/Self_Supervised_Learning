{
 "cells": [
  {
   "cell_type": "code",
   "execution_count": null,
   "metadata": {
    "cellView": "form",
    "id": "uribtHOxyBVQ"
   },
   "outputs": [],
   "source": [
    "#@title Load Libraries\n",
    "import numpy as np\n",
    "from matplotlib import pyplot as plt\n",
    "import tensorflow as tf\n",
    "from tensorflow import keras\n",
    "import cv2"
   ]
  },
  {
   "cell_type": "markdown",
   "metadata": {
    "id": "vY3xWCNWwCZq"
   },
   "source": [
    "# load data set"
   ]
  },
  {
   "cell_type": "code",
   "execution_count": null,
   "metadata": {
    "colab": {
     "base_uri": "https://localhost:8080/"
    },
    "id": "STjYIZjAyFxr",
    "outputId": "433657e1-c7f6-4099-d32f-6bc1410b0a36"
   },
   "outputs": [
    {
     "name": "stdout",
     "output_type": "stream",
     "text": [
      "Downloading data from https://www.cs.toronto.edu/~kriz/cifar-10-python.tar.gz\n",
      "170500096/170498071 [==============================] - 11s 0us/step\n"
     ]
    }
   ],
   "source": [
    "(x_train, y_train), (x_test, y_test) = keras.datasets.cifar10.load_data()"
   ]
  },
  {
   "cell_type": "code",
   "execution_count": null,
   "metadata": {
    "id": "w_8WqL5TyMQD"
   },
   "outputs": [],
   "source": [
    "unlabeld_index = np.ones(y_train.shape, np.bool)\n",
    "\n",
    "N = 20\n",
    "for i in range(10):\n",
    "  idx = np.where(y_train == i)[0][:N]\n",
    "  unlabeld_index[idx] = 0"
   ]
  },
  {
   "cell_type": "code",
   "execution_count": null,
   "metadata": {
    "id": "7xfGX-QKyNaQ"
   },
   "outputs": [],
   "source": [
    "x_unlabeld = x_train[np.where(unlabeld_index)[0], ...]\n",
    "\n",
    "x_train = x_train[np.where(~unlabeld_index)[0], ...]\n",
    "y_train = y_train[np.where(~unlabeld_index)[0], ...]"
   ]
  },
  {
   "cell_type": "code",
   "execution_count": null,
   "metadata": {
    "colab": {
     "base_uri": "https://localhost:8080/"
    },
    "id": "qrATJytqyR4a",
    "outputId": "6fd5a53c-948d-4c47-d7fc-ec118c1e05c7"
   },
   "outputs": [
    {
     "name": "stdout",
     "output_type": "stream",
     "text": [
      "49800\n",
      "(49800, 32, 32, 3)\n",
      "200\n",
      "200\n",
      "10000\n",
      "10000\n"
     ]
    }
   ],
   "source": [
    "print(len(x_unlabeld))\n",
    "print(x_unlabeld.shape)\n",
    "\n",
    "print(len(x_train))\n",
    "print(len(y_train))\n",
    "\n",
    "print(len(x_test))\n",
    "print(len(y_test))"
   ]
  },
  {
   "cell_type": "markdown",
   "metadata": {
    "id": "Jb7-Dp0xyFht"
   },
   "source": [
    "# prepare training data"
   ]
  },
  {
   "cell_type": "code",
   "execution_count": null,
   "metadata": {
    "id": "6PBL12Oz5VLR"
   },
   "outputs": [],
   "source": [
    "import os\n",
    "import cv2\n",
    "from matplotlib import pyplot as plt\n",
    "\n",
    "\n",
    "counter = 0\n",
    "filenames = []\n",
    "labels = []\n",
    "Rlabels = []\n",
    "\n",
    "!mkdir train\n",
    "!mkdir train/train0\n",
    "!mkdir train/train90\n",
    "!mkdir train/train270\n",
    "!mkdir train/train180\n",
    "!mkdir train/unknown0\n",
    "!mkdir train/unknown90\n",
    "!mkdir train/unknown180\n",
    "!mkdir train/unknown270\n",
    "\n",
    "for cifar_class in range(10):\n",
    "  for i in range (len(x_train)):\n",
    "    if y_train[i] == cifar_class :\n",
    "      cv2.imwrite('/content/train/train0/img'+str(counter)+'.png',x_train[i]) \n",
    "      filenames.append('img'+str(counter)+'.png')\n",
    "      labels.append(cifar_class)\n",
    "      Rlabels.append(0)\n",
    "\n",
    "      image_aug = cv2.rotate(x_train[i], cv2.ROTATE_90_COUNTERCLOCKWISE)\n",
    "      cv2.imwrite('/content/train/train90/90img'+str(counter)+'.png', image_aug) \n",
    "      filenames.append('90img'+str(counter)+'.png')\n",
    "      labels.append(cifar_class)\n",
    "      Rlabels.append(1) # shows 90 degrees\n",
    "\n",
    "      image_aug = cv2.rotate(x_train[i], cv2.ROTATE_180)\n",
    "      cv2.imwrite('/content/train/train90/180img'+str(counter)+'.png', image_aug) \n",
    "      filenames.append('180img'+str(counter)+'.png')\n",
    "      labels.append(cifar_class)\n",
    "      Rlabels.append(2) # shows 180 degrees\n",
    "\n",
    "      image_aug = cv2.rotate(x_train[i], cv2.ROTATE_90_CLOCKWISE)\n",
    "      cv2.imwrite('/content/train/train270/270img'+str(counter)+'.png', image_aug) \n",
    "      filenames.append('270img'+str(counter)+'.png')\n",
    "      labels.append(cifar_class)\n",
    "      Rlabels.append(3) # shows 270 degrees  \n",
    "\n",
    "      counter = counter +1"
   ]
  },
  {
   "cell_type": "code",
   "execution_count": null,
   "metadata": {
    "id": "DQoopRpkG6Pc"
   },
   "outputs": [],
   "source": [
    "for i in range (len(x_unlabeld)):\n",
    "  cv2.imwrite('/content/train/unknown0/un0img' + str(i) + '.png', x_unlabeld[i]) \n",
    "  filenames.append('un0img'+str(i)+'.png')\n",
    "  labels.append(100)\n",
    "  Rlabels.append(0)\n",
    "\n",
    "\n",
    "\n",
    "for i in range (len(x_unlabeld)):\n",
    "  image_aug = cv2.rotate(x_unlabeld[i], cv2.ROTATE_90_COUNTERCLOCKWISE)\n",
    "  cv2.imwrite('/content/train/unknown90/un90img'+str(i)+'.png', image_aug) \n",
    "  filenames.append('un90img'+str(i)+'.png')\n",
    "  labels.append(100)\n",
    "  Rlabels.append(1)\n",
    "\n",
    "\n",
    "for i in range (len(x_unlabeld)):\n",
    "  image_aug = cv2.rotate(x_unlabeld[i], cv2.ROTATE_180)\n",
    "  cv2.imwrite('/content/train/unknown180/un180img'+str(i)+'.png', image_aug) \n",
    "  filenames.append('un180img'+str(i)+'.png')\n",
    "  labels.append(100)\n",
    "  Rlabels.append(2)\n",
    "\n",
    "\n",
    "for i in range (len(x_unlabeld)):\n",
    "  image_aug = cv2.rotate(x_unlabeld[i], cv2.ROTATE_90_CLOCKWISE)\n",
    "  cv2.imwrite('/content/train/unknown270/un270img'+str(i)+'.png', image_aug) \n",
    "  filenames.append('un270img'+str(i)+'.png')\n",
    "  labels.append(100)\n",
    "  Rlabels.append(3)"
   ]
  },
  {
   "cell_type": "code",
   "execution_count": null,
   "metadata": {
    "colab": {
     "base_uri": "https://localhost:8080/"
    },
    "id": "Tso0rVJPUZBF",
    "outputId": "76fa8263-1802-4fa8-d80a-8d83de74b761"
   },
   "outputs": [
    {
     "name": "stdout",
     "output_type": "stream",
     "text": [
      "200000\n"
     ]
    }
   ],
   "source": [
    "import os\n",
    "import shutil\n",
    "!mkdir all_images\n",
    "train_dir = '/content/train'\n",
    "dest_dir = '/content/all_images'\n",
    "counter = 0\n",
    "\n",
    "for subdir, dirs, files in os.walk(train_dir):\n",
    "    for file in files:\n",
    "        full_path = os.path.join(subdir, file)\n",
    "        shutil.copy(full_path, dest_dir)\n",
    "        counter = counter + 1\n",
    "\n",
    "print(counter) "
   ]
  },
  {
   "cell_type": "code",
   "execution_count": null,
   "metadata": {
    "id": "lSwnTtoyLUZQ"
   },
   "outputs": [],
   "source": [
    "# import shutil\n",
    "# shutil.make_archive(\"all_images\", \"zip\", \"all_images\")"
   ]
  },
  {
   "cell_type": "code",
   "execution_count": null,
   "metadata": {
    "colab": {
     "base_uri": "https://localhost:8080/"
    },
    "id": "LLYOBQ4JgBSG",
    "outputId": "029ec27b-561f-43a8-df44-a3be1829daf1"
   },
   "outputs": [],
   "source": [
    "# print(labels)\n",
    "# print(Rlabels)\n",
    "\n",
    "# print(len(labels))\n",
    "# print(len(Rlabels))\n",
    "# print(len(filenames))"
   ]
  },
  {
   "cell_type": "code",
   "execution_count": null,
   "metadata": {
    "colab": {
     "base_uri": "https://localhost:8080/"
    },
    "id": "cVfJ5KhnLfM1",
    "outputId": "9c8a43f3-e763-451c-f7bd-cbe69745917a"
   },
   "outputs": [
    {
     "name": "stdout",
     "output_type": "stream",
     "text": [
      "[[1. 0. 0. 0.]\n",
      " [0. 1. 0. 0.]\n",
      " [0. 0. 1. 0.]\n",
      " ...\n",
      " [0. 0. 0. 1.]\n",
      " [0. 0. 0. 1.]\n",
      " [0. 0. 0. 1.]]\n"
     ]
    }
   ],
   "source": [
    "# convert label to one hot\n",
    "np.asarray(Rlabels).astype('float32')\n",
    "Rlabels_one_hot = tf.keras.utils.to_categorical(Rlabels, 4)\n",
    "print(Rlabels_one_hot)"
   ]
  },
  {
   "cell_type": "code",
   "execution_count": null,
   "metadata": {
    "colab": {
     "base_uri": "https://localhost:8080/"
    },
    "id": "Yog0HyjZqCAE",
    "outputId": "364d786f-e1ff-42f1-b336-67e12f8962b3"
   },
   "outputs": [],
   "source": [
    "np.asarray(labels).astype('float32')\n",
    "print(labels)\n",
    "\n",
    "v = np.zeros((len(labels), 10))\n",
    "\n",
    "for n in range(10):\n",
    " for i in range(len(labels)):\n",
    "  if labels[i] == n :\n",
    "   v[i][n]=1\n",
    "\n",
    "labels_one_hot = v\n",
    "# print(labels_one_hot)"
   ]
  },
  {
   "cell_type": "code",
   "execution_count": null,
   "metadata": {
    "id": "7POM20SlUZIt"
   },
   "outputs": [],
   "source": [
    "# saving the filename array as .npy file\n",
    "np.save('filenames.npy', filenames)\n",
    "\n",
    "# saving the y_labels_one_hot array as a .npy file\n",
    "np.save('labels_one_hot.npy', labels_one_hot)\n",
    "np.save('Rlabels_one_hot.npy', Rlabels_one_hot)"
   ]
  },
  {
   "cell_type": "code",
   "execution_count": null,
   "metadata": {
    "id": "wuVqiv1SUZPy"
   },
   "outputs": [],
   "source": [
    "from sklearn.utils import shuffle\n",
    "\n",
    "filenames_shuffled, labels_one_hot_shuffled, Rlabels_one_hot_shuffled = shuffle(filenames, labels_one_hot, Rlabels_one_hot)\n",
    "\n",
    "# saving the shuffled file.\n",
    "# you can load them later using np.load().\n",
    "np.save('labels_one_hot_shuffled.npy', labels_one_hot_shuffled)\n",
    "np.save('Rlabels_one_hot_shuffled.npy', Rlabels_one_hot_shuffled)\n",
    "np.save('filenames_shuffled.npy', filenames_shuffled)"
   ]
  },
  {
   "cell_type": "code",
   "execution_count": null,
   "metadata": {
    "colab": {
     "base_uri": "https://localhost:8080/"
    },
    "id": "vyrjBB6l09kY",
    "outputId": "aea45d7d-bfb7-4370-b49b-7c0031a6f283"
   },
   "outputs": [
    {
     "name": "stdout",
     "output_type": "stream",
     "text": [
      "(200000,)\n",
      "(200000, 10)\n",
      "(200000, 4)\n"
     ]
    }
   ],
   "source": [
    "from sklearn.model_selection import train_test_split\n",
    "\n",
    "# Used this line as our filename array is not a numpy array.\n",
    "X_train_filenames = np.array(filenames_shuffled)\n",
    "Y_train = labels_one_hot_shuffled\n",
    "Y_train_R = Rlabels_one_hot_shuffled\n",
    "\n",
    "print(X_train_filenames.shape) # (200000,) \n",
    "print(Y_train.shape)           # (200000, 10)\n",
    "print(Y_train_R.shape)         # (200000, 4)\n",
    "\n",
    "# You can save these files as well. As you will be using them later for training and validation of your model.\n",
    "np.save('X_train_filenames.npy', X_train_filenames)\n",
    "np.save('y_train.npy', Y_train)\n",
    "np.save('y_train_R.npy', Y_train_R)"
   ]
  },
  {
   "cell_type": "markdown",
   "metadata": {
    "id": "9jecWxyVw5Rc"
   },
   "source": [
    "# prepare test data"
   ]
  },
  {
   "cell_type": "code",
   "execution_count": null,
   "metadata": {
    "id": "MGyKhH7Tw5Rm"
   },
   "outputs": [],
   "source": [
    "import os\n",
    "import cv2\n",
    "from matplotlib import pyplot as plt\n",
    "\n",
    "\n",
    "counter = 0\n",
    "filenames_test = []\n",
    "labels_test = []\n",
    "Rlabels_test = []\n",
    "\n",
    "!mkdir test\n",
    "\n",
    "for cifar_class in range(10):\n",
    "  for i in range (len(x_test)):\n",
    "    if y_test[i] == cifar_class :\n",
    "      cv2.imwrite('/content/test/img'+str(counter)+'.png',x_test[i]) \n",
    "      filenames_test.append('img'+str(counter)+'.png')\n",
    "      labels_test.append(cifar_class)\n",
    "      Rlabels_test.append(0)\n",
    "\n",
    "      counter = counter +1"
   ]
  },
  {
   "cell_type": "code",
   "execution_count": null,
   "metadata": {
    "colab": {
     "base_uri": "https://localhost:8080/"
    },
    "id": "nXz-cwh0w5Rn",
    "outputId": "088acf29-6ad0-4251-850b-9038258a3c64"
   },
   "outputs": [
    {
     "name": "stdout",
     "output_type": "stream",
     "text": [
      "10000\n"
     ]
    }
   ],
   "source": [
    "import os\n",
    "import shutil\n",
    "!mkdir all_images_test\n",
    "train_dir = '/content/test'\n",
    "dest_dir = '/content/all_images_test'\n",
    "counter = 0\n",
    "\n",
    "for subdir, dirs, files in os.walk(train_dir):\n",
    "    for file in files:\n",
    "        full_path = os.path.join(subdir, file)\n",
    "        shutil.copy(full_path, dest_dir)\n",
    "        counter = counter + 1\n",
    "\n",
    "print(counter) "
   ]
  },
  {
   "cell_type": "code",
   "execution_count": null,
   "metadata": {
    "id": "4WtT6_dyw5Rn"
   },
   "outputs": [],
   "source": [
    "# import shutil\n",
    "# shutil.make_archive(\"all_images_test\", \"zip\", \"all_images_test\")"
   ]
  },
  {
   "cell_type": "code",
   "execution_count": null,
   "metadata": {
    "colab": {
     "base_uri": "https://localhost:8080/"
    },
    "id": "0NT0tGSJw5Rn",
    "outputId": "2f2c6a4a-aa98-48f7-fbcc-d14546f66785"
   },
   "outputs": [],
   "source": [
    "# print(labels_test)\n",
    "# print(Rlabels_test)\n",
    "\n",
    "# print(len(labels_test))\n",
    "# print(len(Rlabels_test))\n",
    "# print(len(filenames_test))"
   ]
  },
  {
   "cell_type": "code",
   "execution_count": null,
   "metadata": {
    "colab": {
     "base_uri": "https://localhost:8080/"
    },
    "id": "LdaodrG5zf0c",
    "outputId": "133f9b56-07a7-4e6b-94b2-93268377fd96"
   },
   "outputs": [
    {
     "name": "stdout",
     "output_type": "stream",
     "text": [
      "[[1. 0. 0. ... 0. 0. 0.]\n",
      " [1. 0. 0. ... 0. 0. 0.]\n",
      " [1. 0. 0. ... 0. 0. 0.]\n",
      " ...\n",
      " [0. 0. 0. ... 0. 0. 1.]\n",
      " [0. 0. 0. ... 0. 0. 1.]\n",
      " [0. 0. 0. ... 0. 0. 1.]]\n",
      "(10000, 10)\n"
     ]
    }
   ],
   "source": [
    "# convert label to one hot\n",
    "np.asarray(labels_test).astype('float32')\n",
    "labels_test_one_hot = tf.keras.utils.to_categorical(labels_test, 10)\n",
    "print(labels_test_one_hot)\n",
    "print(labels_test_one_hot.shape)"
   ]
  },
  {
   "cell_type": "code",
   "execution_count": null,
   "metadata": {
    "colab": {
     "base_uri": "https://localhost:8080/"
    },
    "id": "Vx4CwdWuw5Ro",
    "outputId": "87b196f6-2e88-4aa0-ed8b-39dc89a69125"
   },
   "outputs": [],
   "source": [
    "np.asarray(Rlabels_test).astype('float32')\n",
    "# print(Rlabels_test)\n",
    "\n",
    "v = np.zeros(len(Rlabels_test))\n",
    "Rlabels_test_one_hot = tf.keras.utils.to_categorical(v, 4)\n",
    "\n",
    "print(Rlabels_test_one_hot)\n",
    "print(Rlabels_test_one_hot.shape)"
   ]
  },
  {
   "cell_type": "code",
   "execution_count": null,
   "metadata": {
    "id": "KIpliIcqw5Ro"
   },
   "outputs": [],
   "source": [
    "# saving the filename array as .npy file\n",
    "np.save('filenames_test.npy', filenames_test)\n",
    "\n",
    "# saving the y_labels_one_hot array as a .npy file\n",
    "np.save('labels_test_one_hot.npy', labels_test_one_hot)\n",
    "np.save('Rlabels_test_one_hot.npy', Rlabels_test_one_hot)"
   ]
  },
  {
   "cell_type": "code",
   "execution_count": null,
   "metadata": {
    "id": "1TAREX6aw5Ro"
   },
   "outputs": [],
   "source": [
    "from sklearn.utils import shuffle\n",
    "\n",
    "filenames_test_shuffled, labels_test_one_hot_shuffled, Rlabels_test_one_hot_shuffled = shuffle(filenames_test, labels_test_one_hot, Rlabels_test_one_hot)\n",
    "\n",
    "# saving the shuffled file.\n",
    "# you can load them later using np.load().\n",
    "np.save('labels_test_one_hot_shuffled.npy', labels_test_one_hot_shuffled)\n",
    "np.save('Rlabels_test_one_hot_shuffled.npy', Rlabels_test_one_hot_shuffled)\n",
    "np.save('filenames_test_shuffled.npy', filenames_test_shuffled)"
   ]
  },
  {
   "cell_type": "code",
   "execution_count": null,
   "metadata": {
    "colab": {
     "base_uri": "https://localhost:8080/"
    },
    "id": "4xOTJf0Lw5Ro",
    "outputId": "d37f241b-ad73-482f-b323-706239126deb"
   },
   "outputs": [
    {
     "name": "stdout",
     "output_type": "stream",
     "text": [
      "(10000,)\n",
      "(10000, 10)\n",
      "(10000, 4)\n"
     ]
    }
   ],
   "source": [
    "# Used this line as our filename array is not a numpy array.\n",
    "X_test_filenames = np.array(filenames_test_shuffled)\n",
    "Y_test = labels_test_one_hot_shuffled\n",
    "Y_test_R = Rlabels_test_one_hot_shuffled\n",
    "\n",
    "print(X_test_filenames.shape) # (100000,) \n",
    "print(Y_test.shape)           # (100000, 10)\n",
    "print(Y_test_R.shape)         # (100000, 4)\n",
    "\n",
    "# You can save these files as well. As you will be using them later for training and validation of your model.\n",
    "np.save('X_test_filenames.npy', X_test_filenames)\n",
    "np.save('y_test.npy', Y_test)\n",
    "np.save('y_test_R.npy', Y_test_R)"
   ]
  },
  {
   "cell_type": "code",
   "execution_count": null,
   "metadata": {
    "id": "Whekec9Pw5Rp"
   },
   "outputs": [],
   "source": [
    "import cv2\n",
    "\n",
    "class My_Custom_Generator(keras.utils.Sequence) :\n",
    "  \n",
    "  def __init__(self, image_filenames, Rlabels, labels, batch_size) :\n",
    "    self.image_filenames = image_filenames\n",
    "    self.labels = labels\n",
    "    self.Rlabels = Rlabels\n",
    "    self.batch_size = batch_size\n",
    "    \n",
    "  def __len__(self) :\n",
    "    return (np.ceil(len(self.image_filenames) / float(self.batch_size))).astype(np.int)\n",
    "  \n",
    "  def __getitem__(self, idx) :\n",
    "    batch_x = self.image_filenames[idx * self.batch_size : (idx+1) * self.batch_size]\n",
    "    batch_y = self.labels[idx * self.batch_size : (idx+1) * self.batch_size]\n",
    "    batch_y_2 = self.Rlabels[idx * self.batch_size : (idx+1) * self.batch_size]\n",
    "\n",
    "    return np.array([(cv2.imread('/content/all_images/' + str(file_name))) for file_name in batch_x])/255.0, {'rotation':np.array(batch_y_2), 'class':np.array(batch_y)}"
   ]
  },
  {
   "cell_type": "code",
   "execution_count": null,
   "metadata": {
    "id": "ylLPY7gGTros"
   },
   "outputs": [],
   "source": [
    "import cv2\n",
    "\n",
    "class My_Custom_Generator_test(keras.utils.Sequence) :\n",
    "  \n",
    "  def __init__(self, image_filenames, Rlabels, labels, batch_size) :\n",
    "    self.image_filenames = image_filenames\n",
    "    self.labels = labels\n",
    "    self.Rlabels = Rlabels\n",
    "    self.batch_size = batch_size\n",
    "    \n",
    "  def __len__(self) :\n",
    "    return (np.ceil(len(self.image_filenames) / float(self.batch_size))).astype(np.int)\n",
    "  \n",
    "  def __getitem__(self, idx) :\n",
    "    batch_x = self.image_filenames[idx * self.batch_size : (idx+1) * self.batch_size]\n",
    "    batch_y = self.labels[idx * self.batch_size : (idx+1) * self.batch_size]\n",
    "    batch_y_2 = self.Rlabels[idx * self.batch_size : (idx+1) * self.batch_size]\n",
    "\n",
    "    return np.array([(cv2.imread('/content/all_images_test/' + str(file_name))) for file_name in batch_x])/255.0, {'rotation':np.array(batch_y_2), 'class':np.array(batch_y)}"
   ]
  },
  {
   "cell_type": "code",
   "execution_count": null,
   "metadata": {
    "id": "MVs2wpAZw5Rp"
   },
   "outputs": [],
   "source": [
    "batch_size = 512\n",
    "my_training_batch_generator  = My_Custom_Generator(X_train_filenames, Y_train_R, Y_train, batch_size)"
   ]
  },
  {
   "cell_type": "code",
   "execution_count": null,
   "metadata": {
    "id": "I_234K0Bu8i6"
   },
   "outputs": [],
   "source": [
    "my_validation_batch_generator = My_Custom_Generator_test(X_test_filenames, Y_test_R, Y_test, batch_size)"
   ]
  },
  {
   "cell_type": "markdown",
   "metadata": {
    "id": "lvgYrpvOH-H0"
   },
   "source": [
    "# third model"
   ]
  },
  {
   "cell_type": "markdown",
   "metadata": {
    "id": "fltO5IzBiyEK"
   },
   "source": [
    "## loss_weights={'rotation': 0.1, 'cifar_class': 1}"
   ]
  },
  {
   "cell_type": "code",
   "execution_count": null,
   "metadata": {
    "id": "sWtqF0VfH9Hp"
   },
   "outputs": [],
   "source": [
    "input_shape = tf.keras.layers.Input((32,32,3))\n",
    "# input_shape = tf.keras.layers.Input(X_train[0].shape)\n",
    "\n",
    "# define regularization norm 2\n",
    "reg = keras.regularizers.l2(0.01)\n",
    "\n",
    "# create the base model\n",
    "# First convolutional layer\n",
    "x = tf.keras.layers.Conv2D(128, (3, 3), kernel_regularizer=reg,)(input_shape)\n",
    "x = tf.keras.layers.BatchNormalization()(x)\n",
    "x = tf.keras.layers.Activation('relu')(x)\n",
    "x = tf.keras.layers.MaxPooling2D(pool_size=(2, 2))(x)\n",
    "x = tf.keras.layers.Dropout(0.5)(x)\n",
    "\n",
    "# Second convolutional layer\n",
    "x = tf.keras.layers.Conv2D(128, (3, 3), kernel_regularizer=reg,)(input_shape)\n",
    "x = tf.keras.layers.BatchNormalization()(x)\n",
    "x = tf.keras.layers.Activation('relu')(x)\n",
    "x = tf.keras.layers.MaxPooling2D(pool_size=(2, 2))(x)\n",
    "x = tf.keras.layers.Dropout(0.5)(x)\n",
    "\n",
    "# Third convolutional layer\n",
    "x = tf.keras.layers.Conv2D(128, (3, 3), kernel_regularizer=reg,)(input_shape)\n",
    "x = tf.keras.layers.BatchNormalization()(x)\n",
    "x = tf.keras.layers.Activation('relu')(x)\n",
    "x = tf.keras.layers.MaxPooling2D(pool_size=(2, 2))(x)\n",
    "x = tf.keras.layers.Dropout(0.5)(x)\n",
    "\n",
    "\n",
    "# add a Flatten layer\n",
    "x = tf.keras.layers.Flatten()(x)\n",
    "\n",
    "# let's add fully-connected layers\n",
    "x = tf.keras.layers.Dense(1024, kernel_regularizer=reg)(x)\n",
    "x = tf.keras.layers.Activation('relu')(x)\n",
    "x = tf.keras.layers.BatchNormalization()(x)\n",
    "x = tf.keras.layers.Dropout(0.5)(x)\n",
    "\n",
    "x = tf.keras.layers.Dense(128, kernel_regularizer=reg)(x)\n",
    "x = tf.keras.layers.Activation('relu')(x)\n",
    "x = tf.keras.layers.BatchNormalization()(x)\n",
    "output = tf.keras.layers.Dropout(0.5)(x)\n",
    "\n",
    "# 1\n",
    "# output of 4 Rotation prediction classes [0, 90, 180, 270] degrees\n",
    "rotation_output = tf.keras.layers.Dense(units=4, activation='softmax', name='rotation', kernel_regularizer=reg)(output)\n",
    "\n",
    "# 2\n",
    "# output of 10 Cifar classes\n",
    "class_output = tf.keras.layers.Dense(units=10, activation='softmax', name='class', kernel_regularizer=reg)(output)\n",
    "\n",
    "\n",
    "model = tf.keras.models.Model(inputs=input_shape, outputs=[rotation_output, class_output])\n",
    "# model.summary()\n",
    "\n",
    "# compile the model\n",
    "model.compile(optimizer=keras.optimizers.Nadam(learning_rate=0.001),\n",
    "              loss={'rotation':  keras.losses.CategoricalCrossentropy(),'class': keras.losses.CategoricalCrossentropy()},\n",
    "              metrics={'rotation':  keras.metrics.CategoricalAccuracy(),'class': keras.metrics.CategoricalAccuracy()},\n",
    "              loss_weights={'rotation': 1, 'class': 0.01})"
   ]
  },
  {
   "cell_type": "code",
   "execution_count": null,
   "metadata": {
    "colab": {
     "base_uri": "https://localhost:8080/"
    },
    "id": "V_haBt40rCrR",
    "outputId": "99bd6037-0755-41a5-9fe5-c1505ecd216b"
   },
   "outputs": [
    {
     "name": "stdout",
     "output_type": "stream",
     "text": [
      "Epoch 1/50\n",
      "390/390 [==============================] - 64s 158ms/step - loss: 8.7254 - rotation_loss: 1.3581 - class_loss: 0.0110 - rotation_categorical_accuracy: 0.4844 - class_categorical_accuracy: 0.0863 - val_loss: 2.2208 - val_rotation_loss: 1.3080 - val_class_loss: 2.3023 - val_rotation_categorical_accuracy: 0.3670 - val_class_categorical_accuracy: 0.0985\n",
      "Epoch 2/50\n",
      "390/390 [==============================] - 61s 157ms/step - loss: 1.8244 - rotation_loss: 1.0460 - class_loss: 0.0097 - rotation_categorical_accuracy: 0.5579 - class_categorical_accuracy: 0.0313 - val_loss: 1.4371 - val_rotation_loss: 0.7185 - val_class_loss: 2.3024 - val_rotation_categorical_accuracy: 0.6988 - val_class_categorical_accuracy: 0.1074\n",
      "Epoch 3/50\n",
      "390/390 [==============================] - 61s 155ms/step - loss: 1.7343 - rotation_loss: 1.0338 - class_loss: 0.0093 - rotation_categorical_accuracy: 0.5665 - class_categorical_accuracy: 0.0021 - val_loss: 1.5245 - val_rotation_loss: 0.8190 - val_class_loss: 2.3022 - val_rotation_categorical_accuracy: 0.7164 - val_class_categorical_accuracy: 0.1200\n",
      "Epoch 4/50\n",
      "390/390 [==============================] - 61s 155ms/step - loss: 1.6844 - rotation_loss: 1.0154 - class_loss: 0.0093 - rotation_categorical_accuracy: 0.5732 - class_categorical_accuracy: 0.0017 - val_loss: 1.0748 - val_rotation_loss: 0.4096 - val_class_loss: 2.3020 - val_rotation_categorical_accuracy: 0.8456 - val_class_categorical_accuracy: 0.1326\n",
      "Epoch 5/50\n",
      "390/390 [==============================] - 61s 155ms/step - loss: 1.6363 - rotation_loss: 0.9981 - class_loss: 0.0096 - rotation_categorical_accuracy: 0.5854 - class_categorical_accuracy: 0.0023 - val_loss: 2.1703 - val_rotation_loss: 1.5412 - val_class_loss: 2.3026 - val_rotation_categorical_accuracy: 0.3091 - val_class_categorical_accuracy: 0.1296\n",
      "Epoch 6/50\n",
      "390/390 [==============================] - 61s 155ms/step - loss: 1.6049 - rotation_loss: 0.9857 - class_loss: 0.0092 - rotation_categorical_accuracy: 0.5920 - class_categorical_accuracy: 0.0026 - val_loss: 1.7833 - val_rotation_loss: 1.1945 - val_class_loss: 2.3025 - val_rotation_categorical_accuracy: 0.4707 - val_class_categorical_accuracy: 0.1334\n",
      "Epoch 7/50\n",
      "390/390 [==============================] - 61s 156ms/step - loss: 1.5664 - rotation_loss: 0.9729 - class_loss: 0.0094 - rotation_categorical_accuracy: 0.5977 - class_categorical_accuracy: 0.0028 - val_loss: 1.4671 - val_rotation_loss: 0.8794 - val_class_loss: 2.3016 - val_rotation_categorical_accuracy: 0.5851 - val_class_categorical_accuracy: 0.0969\n",
      "Epoch 8/50\n",
      "390/390 [==============================] - 61s 157ms/step - loss: 1.5400 - rotation_loss: 0.9653 - class_loss: 0.0093 - rotation_categorical_accuracy: 0.6012 - class_categorical_accuracy: 0.0025 - val_loss: 1.4936 - val_rotation_loss: 0.9534 - val_class_loss: 2.3027 - val_rotation_categorical_accuracy: 0.5980 - val_class_categorical_accuracy: 0.1093\n",
      "Epoch 9/50\n",
      "390/390 [==============================] - 61s 157ms/step - loss: 1.5060 - rotation_loss: 0.9659 - class_loss: 0.0091 - rotation_categorical_accuracy: 0.6014 - class_categorical_accuracy: 0.0066 - val_loss: 1.4083 - val_rotation_loss: 0.8606 - val_class_loss: 2.3026 - val_rotation_categorical_accuracy: 0.5943 - val_class_categorical_accuracy: 0.0762\n",
      "Epoch 10/50\n",
      "390/390 [==============================] - 61s 157ms/step - loss: 1.4924 - rotation_loss: 0.9639 - class_loss: 0.0092 - rotation_categorical_accuracy: 0.6020 - class_categorical_accuracy: 0.0050 - val_loss: 1.5099 - val_rotation_loss: 0.9789 - val_class_loss: 2.3022 - val_rotation_categorical_accuracy: 0.5930 - val_class_categorical_accuracy: 0.1151\n",
      "Epoch 11/50\n",
      "390/390 [==============================] - 61s 156ms/step - loss: 1.4818 - rotation_loss: 0.9588 - class_loss: 0.0096 - rotation_categorical_accuracy: 0.6045 - class_categorical_accuracy: 0.0059 - val_loss: 1.4241 - val_rotation_loss: 0.8855 - val_class_loss: 2.3023 - val_rotation_categorical_accuracy: 0.6550 - val_class_categorical_accuracy: 0.1172\n",
      "Epoch 12/50\n",
      "390/390 [==============================] - 61s 157ms/step - loss: 1.4678 - rotation_loss: 0.9497 - class_loss: 0.0090 - rotation_categorical_accuracy: 0.6093 - class_categorical_accuracy: 0.0054 - val_loss: 1.9018 - val_rotation_loss: 1.3697 - val_class_loss: 2.3021 - val_rotation_categorical_accuracy: 0.4243 - val_class_categorical_accuracy: 0.0886\n",
      "Epoch 13/50\n",
      "390/390 [==============================] - 61s 156ms/step - loss: 1.4603 - rotation_loss: 0.9489 - class_loss: 0.0099 - rotation_categorical_accuracy: 0.6086 - class_categorical_accuracy: 0.0055 - val_loss: 1.3656 - val_rotation_loss: 0.8372 - val_class_loss: 2.3014 - val_rotation_categorical_accuracy: 0.6509 - val_class_categorical_accuracy: 0.1171\n",
      "Epoch 14/50\n",
      "390/390 [==============================] - 61s 157ms/step - loss: 1.4406 - rotation_loss: 0.9463 - class_loss: 0.0089 - rotation_categorical_accuracy: 0.6099 - class_categorical_accuracy: 0.0062 - val_loss: 1.6247 - val_rotation_loss: 1.1170 - val_class_loss: 2.3026 - val_rotation_categorical_accuracy: 0.4899 - val_class_categorical_accuracy: 0.1012\n",
      "Epoch 15/50\n",
      "390/390 [==============================] - 61s 157ms/step - loss: 1.4392 - rotation_loss: 0.9472 - class_loss: 0.0093 - rotation_categorical_accuracy: 0.6086 - class_categorical_accuracy: 0.0066 - val_loss: 1.1246 - val_rotation_loss: 0.6145 - val_class_loss: 2.3020 - val_rotation_categorical_accuracy: 0.7973 - val_class_categorical_accuracy: 0.1010\n",
      "Epoch 16/50\n",
      "390/390 [==============================] - 61s 157ms/step - loss: 1.4346 - rotation_loss: 0.9426 - class_loss: 0.0095 - rotation_categorical_accuracy: 0.6115 - class_categorical_accuracy: 0.0084 - val_loss: 1.7071 - val_rotation_loss: 1.2189 - val_class_loss: 2.3031 - val_rotation_categorical_accuracy: 0.4863 - val_class_categorical_accuracy: 0.1122\n",
      "Epoch 17/50\n",
      "390/390 [==============================] - 61s 156ms/step - loss: 1.4189 - rotation_loss: 0.9469 - class_loss: 0.0087 - rotation_categorical_accuracy: 0.6098 - class_categorical_accuracy: 0.0092 - val_loss: 1.5601 - val_rotation_loss: 1.0699 - val_class_loss: 2.3018 - val_rotation_categorical_accuracy: 0.5396 - val_class_categorical_accuracy: 0.0850\n",
      "Epoch 18/50\n",
      "390/390 [==============================] - 61s 156ms/step - loss: 1.4139 - rotation_loss: 0.9390 - class_loss: 0.0089 - rotation_categorical_accuracy: 0.6128 - class_categorical_accuracy: 0.0091 - val_loss: 1.2780 - val_rotation_loss: 0.7933 - val_class_loss: 2.3011 - val_rotation_categorical_accuracy: 0.6803 - val_class_categorical_accuracy: 0.1311\n",
      "Epoch 19/50\n",
      "390/390 [==============================] - 61s 156ms/step - loss: 1.4018 - rotation_loss: 0.9402 - class_loss: 0.0093 - rotation_categorical_accuracy: 0.6133 - class_categorical_accuracy: 0.0097 - val_loss: 2.1690 - val_rotation_loss: 1.6720 - val_class_loss: 2.3026 - val_rotation_categorical_accuracy: 0.2334 - val_class_categorical_accuracy: 0.1052\n",
      "Epoch 20/50\n",
      "390/390 [==============================] - 61s 156ms/step - loss: 1.4040 - rotation_loss: 0.9401 - class_loss: 0.0091 - rotation_categorical_accuracy: 0.6149 - class_categorical_accuracy: 0.0125 - val_loss: 1.2970 - val_rotation_loss: 0.8252 - val_class_loss: 2.3026 - val_rotation_categorical_accuracy: 0.6943 - val_class_categorical_accuracy: 0.1058\n",
      "Epoch 21/50\n",
      "390/390 [==============================] - 61s 156ms/step - loss: 1.3878 - rotation_loss: 0.9397 - class_loss: 0.0095 - rotation_categorical_accuracy: 0.6137 - class_categorical_accuracy: 0.0115 - val_loss: 1.1478 - val_rotation_loss: 0.6712 - val_class_loss: 2.3020 - val_rotation_categorical_accuracy: 0.7215 - val_class_categorical_accuracy: 0.1358\n",
      "Epoch 22/50\n",
      "390/390 [==============================] - 61s 157ms/step - loss: 1.3916 - rotation_loss: 0.9393 - class_loss: 0.0092 - rotation_categorical_accuracy: 0.6130 - class_categorical_accuracy: 0.0148 - val_loss: 2.2649 - val_rotation_loss: 1.7835 - val_class_loss: 2.3030 - val_rotation_categorical_accuracy: 0.3202 - val_class_categorical_accuracy: 0.0954\n",
      "Epoch 23/50\n",
      "390/390 [==============================] - 61s 156ms/step - loss: 1.3851 - rotation_loss: 0.9390 - class_loss: 0.0094 - rotation_categorical_accuracy: 0.6127 - class_categorical_accuracy: 0.0201 - val_loss: 0.9459 - val_rotation_loss: 0.4867 - val_class_loss: 2.3021 - val_rotation_categorical_accuracy: 0.8390 - val_class_categorical_accuracy: 0.1058\n",
      "Epoch 24/50\n",
      "390/390 [==============================] - 61s 156ms/step - loss: 1.3880 - rotation_loss: 0.9390 - class_loss: 0.0094 - rotation_categorical_accuracy: 0.6140 - class_categorical_accuracy: 0.0210 - val_loss: 1.1159 - val_rotation_loss: 0.6481 - val_class_loss: 2.3027 - val_rotation_categorical_accuracy: 0.7998 - val_class_categorical_accuracy: 0.1020\n",
      "Epoch 25/50\n",
      "390/390 [==============================] - 61s 156ms/step - loss: 1.3767 - rotation_loss: 0.9401 - class_loss: 0.0088 - rotation_categorical_accuracy: 0.6136 - class_categorical_accuracy: 0.0228 - val_loss: 1.5569 - val_rotation_loss: 1.1208 - val_class_loss: 2.3019 - val_rotation_categorical_accuracy: 0.4836 - val_class_categorical_accuracy: 0.1092\n",
      "Epoch 26/50\n",
      "390/390 [==============================] - 61s 155ms/step - loss: 1.3591 - rotation_loss: 0.9375 - class_loss: 0.0091 - rotation_categorical_accuracy: 0.6130 - class_categorical_accuracy: 0.0166 - val_loss: 1.1366 - val_rotation_loss: 0.6770 - val_class_loss: 2.3021 - val_rotation_categorical_accuracy: 0.7434 - val_class_categorical_accuracy: 0.1005\n",
      "Epoch 27/50\n",
      "390/390 [==============================] - 61s 155ms/step - loss: 1.3728 - rotation_loss: 0.9408 - class_loss: 0.0091 - rotation_categorical_accuracy: 0.6140 - class_categorical_accuracy: 0.0217 - val_loss: 1.3959 - val_rotation_loss: 0.9397 - val_class_loss: 2.3016 - val_rotation_categorical_accuracy: 0.5887 - val_class_categorical_accuracy: 0.1109\n",
      "Epoch 28/50\n",
      "390/390 [==============================] - 61s 155ms/step - loss: 1.3729 - rotation_loss: 0.9427 - class_loss: 0.0091 - rotation_categorical_accuracy: 0.6115 - class_categorical_accuracy: 0.0289 - val_loss: 0.9950 - val_rotation_loss: 0.5264 - val_class_loss: 2.3008 - val_rotation_categorical_accuracy: 0.8586 - val_class_categorical_accuracy: 0.1423\n",
      "Epoch 29/50\n",
      "390/390 [==============================] - 61s 155ms/step - loss: 1.3775 - rotation_loss: 0.9399 - class_loss: 0.0087 - rotation_categorical_accuracy: 0.6129 - class_categorical_accuracy: 0.0388 - val_loss: 1.1326 - val_rotation_loss: 0.6824 - val_class_loss: 2.3023 - val_rotation_categorical_accuracy: 0.7423 - val_class_categorical_accuracy: 0.1275\n",
      "Epoch 30/50\n",
      "390/390 [==============================] - 60s 155ms/step - loss: 1.3626 - rotation_loss: 0.9380 - class_loss: 0.0093 - rotation_categorical_accuracy: 0.6149 - class_categorical_accuracy: 0.0363 - val_loss: 1.5612 - val_rotation_loss: 1.1059 - val_class_loss: 2.3011 - val_rotation_categorical_accuracy: 0.4591 - val_class_categorical_accuracy: 0.1057\n",
      "Epoch 31/50\n",
      "390/390 [==============================] - 61s 155ms/step - loss: 1.3667 - rotation_loss: 0.9394 - class_loss: 0.0087 - rotation_categorical_accuracy: 0.6141 - class_categorical_accuracy: 0.0546 - val_loss: 1.9650 - val_rotation_loss: 1.5182 - val_class_loss: 2.3023 - val_rotation_categorical_accuracy: 0.3483 - val_class_categorical_accuracy: 0.0698\n",
      "Epoch 32/50\n",
      "390/390 [==============================] - 61s 155ms/step - loss: 1.3736 - rotation_loss: 0.9423 - class_loss: 0.0088 - rotation_categorical_accuracy: 0.6129 - class_categorical_accuracy: 0.0441 - val_loss: 1.3834 - val_rotation_loss: 0.9263 - val_class_loss: 2.3028 - val_rotation_categorical_accuracy: 0.5944 - val_class_categorical_accuracy: 0.0988\n",
      "Epoch 33/50\n",
      "390/390 [==============================] - 61s 155ms/step - loss: 1.3839 - rotation_loss: 0.9441 - class_loss: 0.0095 - rotation_categorical_accuracy: 0.6142 - class_categorical_accuracy: 0.0589 - val_loss: 1.6854 - val_rotation_loss: 1.2294 - val_class_loss: 2.3024 - val_rotation_categorical_accuracy: 0.4378 - val_class_categorical_accuracy: 0.0965\n",
      "Epoch 34/50\n",
      "390/390 [==============================] - 60s 155ms/step - loss: 1.3913 - rotation_loss: 0.9408 - class_loss: 0.0096 - rotation_categorical_accuracy: 0.6148 - class_categorical_accuracy: 0.0638 - val_loss: 1.1829 - val_rotation_loss: 0.6939 - val_class_loss: 2.3036 - val_rotation_categorical_accuracy: 0.7250 - val_class_categorical_accuracy: 0.1027\n",
      "Epoch 35/50\n",
      "390/390 [==============================] - 61s 155ms/step - loss: 1.4030 - rotation_loss: 0.9422 - class_loss: 0.0094 - rotation_categorical_accuracy: 0.6123 - class_categorical_accuracy: 0.0646 - val_loss: 1.2233 - val_rotation_loss: 0.7176 - val_class_loss: 2.3024 - val_rotation_categorical_accuracy: 0.7681 - val_class_categorical_accuracy: 0.1037\n",
      "Epoch 36/50\n",
      "390/390 [==============================] - 61s 155ms/step - loss: 1.4281 - rotation_loss: 0.9410 - class_loss: 0.0095 - rotation_categorical_accuracy: 0.6129 - class_categorical_accuracy: 0.0658 - val_loss: 1.5986 - val_rotation_loss: 1.0605 - val_class_loss: 2.3006 - val_rotation_categorical_accuracy: 0.5709 - val_class_categorical_accuracy: 0.1605\n",
      "Epoch 37/50\n",
      "390/390 [==============================] - 61s 155ms/step - loss: 1.4564 - rotation_loss: 0.9402 - class_loss: 0.0084 - rotation_categorical_accuracy: 0.6136 - class_categorical_accuracy: 0.0738 - val_loss: 1.2381 - val_rotation_loss: 0.6803 - val_class_loss: 2.3002 - val_rotation_categorical_accuracy: 0.7614 - val_class_categorical_accuracy: 0.1386\n",
      "Epoch 38/50\n",
      "390/390 [==============================] - 61s 156ms/step - loss: 1.4890 - rotation_loss: 0.9402 - class_loss: 0.0094 - rotation_categorical_accuracy: 0.6158 - class_categorical_accuracy: 0.0990 - val_loss: 1.8724 - val_rotation_loss: 1.2725 - val_class_loss: 2.3031 - val_rotation_categorical_accuracy: 0.4416 - val_class_categorical_accuracy: 0.1034\n",
      "Epoch 39/50\n",
      "390/390 [==============================] - 61s 156ms/step - loss: 1.5272 - rotation_loss: 0.9452 - class_loss: 0.0095 - rotation_categorical_accuracy: 0.6124 - class_categorical_accuracy: 0.0871 - val_loss: 1.5726 - val_rotation_loss: 0.9248 - val_class_loss: 2.3024 - val_rotation_categorical_accuracy: 0.5860 - val_class_categorical_accuracy: 0.1224\n",
      "Epoch 40/50\n",
      "390/390 [==============================] - 61s 155ms/step - loss: 1.5826 - rotation_loss: 0.9436 - class_loss: 0.0090 - rotation_categorical_accuracy: 0.6129 - class_categorical_accuracy: 0.0855 - val_loss: 1.7209 - val_rotation_loss: 1.0363 - val_class_loss: 2.3021 - val_rotation_categorical_accuracy: 0.5505 - val_class_categorical_accuracy: 0.0993\n",
      "Epoch 41/50\n",
      "390/390 [==============================] - 61s 155ms/step - loss: 1.6234 - rotation_loss: 0.9407 - class_loss: 0.0094 - rotation_categorical_accuracy: 0.6166 - class_categorical_accuracy: 0.0867 - val_loss: 1.7270 - val_rotation_loss: 0.9963 - val_class_loss: 2.3022 - val_rotation_categorical_accuracy: 0.5716 - val_class_categorical_accuracy: 0.1073\n",
      "Epoch 42/50\n",
      "390/390 [==============================] - 61s 156ms/step - loss: 1.6778 - rotation_loss: 0.9435 - class_loss: 0.0090 - rotation_categorical_accuracy: 0.6161 - class_categorical_accuracy: 0.1001 - val_loss: 2.1024 - val_rotation_loss: 1.2970 - val_class_loss: 2.3027 - val_rotation_categorical_accuracy: 0.4545 - val_class_categorical_accuracy: 0.0857\n",
      "Epoch 43/50\n",
      "390/390 [==============================] - 61s 155ms/step - loss: 1.7564 - rotation_loss: 0.9458 - class_loss: 0.0089 - rotation_categorical_accuracy: 0.6129 - class_categorical_accuracy: 0.0883 - val_loss: 1.8287 - val_rotation_loss: 0.9520 - val_class_loss: 2.3029 - val_rotation_categorical_accuracy: 0.6093 - val_class_categorical_accuracy: 0.0935\n",
      "Epoch 44/50\n",
      "390/390 [==============================] - 61s 156ms/step - loss: 1.8276 - rotation_loss: 0.9507 - class_loss: 0.0087 - rotation_categorical_accuracy: 0.6114 - class_categorical_accuracy: 0.0996 - val_loss: 2.5171 - val_rotation_loss: 1.5612 - val_class_loss: 2.3027 - val_rotation_categorical_accuracy: 0.3697 - val_class_categorical_accuracy: 0.1266\n",
      "Epoch 45/50\n",
      "390/390 [==============================] - 61s 156ms/step - loss: 1.9037 - rotation_loss: 0.9440 - class_loss: 0.0090 - rotation_categorical_accuracy: 0.6134 - class_categorical_accuracy: 0.0875 - val_loss: 1.8831 - val_rotation_loss: 0.8282 - val_class_loss: 2.3024 - val_rotation_categorical_accuracy: 0.6688 - val_class_categorical_accuracy: 0.1036\n",
      "Epoch 46/50\n",
      "390/390 [==============================] - 61s 156ms/step - loss: 2.0015 - rotation_loss: 0.9496 - class_loss: 0.0095 - rotation_categorical_accuracy: 0.6117 - class_categorical_accuracy: 0.1035 - val_loss: 2.2802 - val_rotation_loss: 1.1456 - val_class_loss: 2.3016 - val_rotation_categorical_accuracy: 0.5120 - val_class_categorical_accuracy: 0.0908\n",
      "Epoch 47/50\n",
      "390/390 [==============================] - 61s 156ms/step - loss: 2.0933 - rotation_loss: 0.9462 - class_loss: 0.0096 - rotation_categorical_accuracy: 0.6125 - class_categorical_accuracy: 0.0761 - val_loss: 2.1812 - val_rotation_loss: 0.9340 - val_class_loss: 2.3025 - val_rotation_categorical_accuracy: 0.6445 - val_class_categorical_accuracy: 0.1006\n",
      "Epoch 48/50\n",
      "390/390 [==============================] - 61s 155ms/step - loss: 2.2003 - rotation_loss: 0.9448 - class_loss: 0.0087 - rotation_categorical_accuracy: 0.6133 - class_categorical_accuracy: 0.1070 - val_loss: 2.5468 - val_rotation_loss: 1.1927 - val_class_loss: 2.3032 - val_rotation_categorical_accuracy: 0.4819 - val_class_categorical_accuracy: 0.0984\n",
      "Epoch 49/50\n",
      "390/390 [==============================] - 61s 155ms/step - loss: 2.3148 - rotation_loss: 0.9510 - class_loss: 0.0096 - rotation_categorical_accuracy: 0.6102 - class_categorical_accuracy: 0.0897 - val_loss: 2.1905 - val_rotation_loss: 0.7179 - val_class_loss: 2.3047 - val_rotation_categorical_accuracy: 0.7342 - val_class_categorical_accuracy: 0.0993\n",
      "Epoch 50/50\n",
      "390/390 [==============================] - 61s 155ms/step - loss: 2.4287 - rotation_loss: 0.9459 - class_loss: 0.0098 - rotation_categorical_accuracy: 0.6145 - class_categorical_accuracy: 0.1140 - val_loss: 2.3286 - val_rotation_loss: 0.7214 - val_class_loss: 2.3030 - val_rotation_categorical_accuracy: 0.7252 - val_class_categorical_accuracy: 0.0958\n"
     ]
    }
   ],
   "source": [
    "history = model.fit(my_training_batch_generator,\n",
    "                    validation_data = (my_validation_batch_generator),\n",
    "                    steps_per_epoch = int(200000 // batch_size),\n",
    "                    validation_steps = int(10000 // batch_size),\n",
    "                    epochs = 50)"
   ]
  },
  {
   "cell_type": "markdown",
   "metadata": {
    "id": "RI6Wfb91jJEx"
   },
   "source": [
    "### result"
   ]
  },
  {
   "cell_type": "code",
   "execution_count": null,
   "metadata": {
    "colab": {
     "base_uri": "https://localhost:8080/",
     "height": 1000
    },
    "id": "nnabmH_K_DHK",
    "outputId": "bfd290e1-0389-4bf4-c109-c935113b8a5c"
   },
   "outputs": [
    {
     "data": {
      "image/png": "[encoded data removed]",
      "text/plain": [
       "<Figure size 432x288 with 1 Axes>"
      ]
     },
     "metadata": {
      "needs_background": "light",
      "tags": []
     },
     "output_type": "display_data"
    },
    {
     "data": {
      "image/png": "[encoded data removed]",
      "text/plain": [
       "<Figure size 432x288 with 1 Axes>"
      ]
     },
     "metadata": {
      "needs_background": "light",
      "tags": []
     },
     "output_type": "display_data"
    },
    {
     "data": {
      "image/png": "[encoded data removed]",
      "text/plain": [
       "<Figure size 432x288 with 1 Axes>"
      ]
     },
     "metadata": {
      "needs_background": "light",
      "tags": []
     },
     "output_type": "display_data"
    },
    {
     "data": {
      "image/png": "[encoded data removed]",
      "text/plain": [
       "<Figure size 432x288 with 1 Axes>"
      ]
     },
     "metadata": {
      "needs_background": "light",
      "tags": []
     },
     "output_type": "display_data"
    }
   ],
   "source": [
    "# show result of 4 Rotation prediction classes\n",
    "acc = history.history['rotation_categorical_accuracy']\n",
    "val_acc = history.history['val_rotation_categorical_accuracy']\n",
    "\n",
    "loss = history.history['rotation_loss']\n",
    "val_loss = history.history['val_rotation_loss']\n",
    "\n",
    "epochs_range = range((len(acc)))\n",
    "\n",
    "\n",
    "plt.plot(epochs_range, acc, label='Training Accuracy')\n",
    "plt.plot(epochs_range, val_acc, label='Validation Accuracy')\n",
    "plt.legend(loc='lower right')\n",
    "plt.title('Training and Validation Accuracy')\n",
    "plt.show()\n",
    "\n",
    "plt.plot(epochs_range, loss, label='Training Loss')\n",
    "plt.plot(epochs_range, val_loss, label='Validation Loss')\n",
    "plt.legend(loc='upper right')\n",
    "plt.title('Training and Validation Loss')\n",
    "plt.show()\n",
    "\n",
    "\n",
    "\n",
    "# show result of 10 Cifar classes\n",
    "acc = history.history['class_categorical_accuracy']\n",
    "val_acc = history.history['val_class_categorical_accuracy']\n",
    "\n",
    "loss = history.history['class_loss']\n",
    "val_loss = history.history['val_class_loss']\n",
    "\n",
    "epochs_range = range((len(acc)))\n",
    "\n",
    "plt.plot(epochs_range, acc, label='Training Accuracy')\n",
    "plt.plot(epochs_range, val_acc, label='Validation Accuracy')\n",
    "plt.legend(loc='lower right')\n",
    "plt.title('Training and Validation Accuracy')\n",
    "plt.show()\n",
    "\n",
    "plt.plot(epochs_range, loss, label='Training Loss')\n",
    "plt.plot(epochs_range, val_loss, label='Validation Loss')\n",
    "plt.legend(loc='upper right')\n",
    "plt.title('Training and Validation Loss')\n",
    "plt.show()"
   ]
  },
  {
   "cell_type": "markdown",
   "metadata": {
    "id": "qvKZWhaIi8M5"
   },
   "source": [
    "## loss_weights={'rotation': 0.1, 'cifar_class': 0.8}"
   ]
  },
  {
   "cell_type": "code",
   "execution_count": null,
   "metadata": {
    "id": "hOptzleog5iB"
   },
   "outputs": [],
   "source": [
    "input_shape = tf.keras.layers.Input((32,32,3))\n",
    "# input_shape = tf.keras.layers.Input(X_train[0].shape)\n",
    "\n",
    "# define regularization norm 2\n",
    "reg = keras.regularizers.l2(0.01)\n",
    "\n",
    "# create the base model\n",
    "# First convolutional layer\n",
    "x = tf.keras.layers.Conv2D(128, (3, 3), kernel_regularizer=reg,)(input_shape)\n",
    "x = tf.keras.layers.BatchNormalization()(x)\n",
    "x = tf.keras.layers.Activation('relu')(x)\n",
    "x = tf.keras.layers.MaxPooling2D(pool_size=(2, 2))(x)\n",
    "x = tf.keras.layers.Dropout(0.5)(x)\n",
    "\n",
    "# Second convolutional layer\n",
    "x = tf.keras.layers.Conv2D(128, (3, 3), kernel_regularizer=reg,)(input_shape)\n",
    "x = tf.keras.layers.BatchNormalization()(x)\n",
    "x = tf.keras.layers.Activation('relu')(x)\n",
    "x = tf.keras.layers.MaxPooling2D(pool_size=(2, 2))(x)\n",
    "x = tf.keras.layers.Dropout(0.5)(x)\n",
    "\n",
    "# Third convolutional layer\n",
    "x = tf.keras.layers.Conv2D(128, (3, 3), kernel_regularizer=reg,)(input_shape)\n",
    "x = tf.keras.layers.BatchNormalization()(x)\n",
    "x = tf.keras.layers.Activation('relu')(x)\n",
    "x = tf.keras.layers.MaxPooling2D(pool_size=(2, 2))(x)\n",
    "x = tf.keras.layers.Dropout(0.5)(x)\n",
    "\n",
    "\n",
    "# add a Flatten layer\n",
    "x = tf.keras.layers.Flatten()(x)\n",
    "\n",
    "# let's add fully-connected layers\n",
    "x = tf.keras.layers.Dense(1024, kernel_regularizer=reg)(x)\n",
    "x = tf.keras.layers.Activation('relu')(x)\n",
    "x = tf.keras.layers.BatchNormalization()(x)\n",
    "x = tf.keras.layers.Dropout(0.5)(x)\n",
    "\n",
    "x = tf.keras.layers.Dense(128, kernel_regularizer=reg)(x)\n",
    "x = tf.keras.layers.Activation('relu')(x)\n",
    "x = tf.keras.layers.BatchNormalization()(x)\n",
    "output = tf.keras.layers.Dropout(0.5)(x)\n",
    "\n",
    "# 1\n",
    "# output of 4 Rotation prediction classes [0, 90, 180, 270] degrees\n",
    "rotation_output = tf.keras.layers.Dense(units=4, activation='softmax', name='rotation', kernel_regularizer=reg)(output)\n",
    "\n",
    "# 2\n",
    "# output of 10 Cifar classes\n",
    "class_output = tf.keras.layers.Dense(units=10, activation='softmax', name='class', kernel_regularizer=reg)(output)\n",
    "\n",
    "\n",
    "model = tf.keras.models.Model(inputs=input_shape, outputs=[rotation_output, class_output])\n",
    "# model.summary()\n",
    "\n",
    "# compile the model\n",
    "model.compile(optimizer=keras.optimizers.Adam(learning_rate=0.008),\n",
    "              loss={'rotation':  keras.losses.CategoricalCrossentropy(),'class': keras.losses.CategoricalCrossentropy()},\n",
    "              metrics={'rotation':  keras.metrics.CategoricalAccuracy(),'class': keras.metrics.CategoricalAccuracy()},\n",
    "              loss_weights={'rotation': 0.1, 'class': 0.8})"
   ]
  },
  {
   "cell_type": "code",
   "execution_count": null,
   "metadata": {
    "colab": {
     "base_uri": "https://localhost:8080/"
    },
    "id": "ArpVctWnhCkJ",
    "outputId": "a7c38757-b01e-44ce-a8e8-f91b9d979bca"
   },
   "outputs": [
    {
     "name": "stdout",
     "output_type": "stream",
     "text": [
      "Epoch 1/20\n",
      "390/390 [==============================] - 32s 79ms/step - loss: 61.3911 - rotation_loss: 1.4923 - class_loss: 0.0107 - rotation_categorical_accuracy: 0.2770 - class_categorical_accuracy: 0.0803 - val_loss: 371.1100 - val_rotation_loss: 0.0000e+00 - val_class_loss: 2.3590 - val_rotation_categorical_accuracy: 1.0000 - val_class_categorical_accuracy: 0.1120\n",
      "Epoch 2/20\n",
      "390/390 [==============================] - 30s 78ms/step - loss: 564.1441 - rotation_loss: 1.6420 - class_loss: 0.0147 - rotation_categorical_accuracy: 0.2533 - class_categorical_accuracy: 0.0927 - val_loss: 1280.6029 - val_rotation_loss: 0.0000e+00 - val_class_loss: 2.3439 - val_rotation_categorical_accuracy: 0.0000e+00 - val_class_categorical_accuracy: 0.0995\n",
      "Epoch 3/20\n",
      "390/390 [==============================] - 30s 78ms/step - loss: 1601.6705 - rotation_loss: 2.6622 - class_loss: 0.0121 - rotation_categorical_accuracy: 0.2526 - class_categorical_accuracy: 0.0894 - val_loss: 2620.6775 - val_rotation_loss: 0.0000e+00 - val_class_loss: 2.5027 - val_rotation_categorical_accuracy: 0.0000e+00 - val_class_categorical_accuracy: 0.1004\n",
      "Epoch 4/20\n",
      "390/390 [==============================] - 30s 77ms/step - loss: 2927.8648 - rotation_loss: 2.8047 - class_loss: 0.0303 - rotation_categorical_accuracy: 0.2489 - class_categorical_accuracy: 0.0880 - val_loss: 3662.2146 - val_rotation_loss: 0.0000e+00 - val_class_loss: 7.9700 - val_rotation_categorical_accuracy: 1.0000 - val_class_categorical_accuracy: 0.1007\n",
      "Epoch 5/20\n",
      "390/390 [==============================] - 30s 77ms/step - loss: 3829.4037 - rotation_loss: 5.0959 - class_loss: 0.0411 - rotation_categorical_accuracy: 0.2492 - class_categorical_accuracy: 0.1056 - val_loss: 4354.0352 - val_rotation_loss: 0.0000e+00 - val_class_loss: 5.2115 - val_rotation_categorical_accuracy: 1.0000 - val_class_categorical_accuracy: 0.1003\n",
      "Epoch 6/20\n",
      "390/390 [==============================] - 30s 77ms/step - loss: 4523.1598 - rotation_loss: 3.9838 - class_loss: 0.0415 - rotation_categorical_accuracy: 0.2514 - class_categorical_accuracy: 0.1020 - val_loss: 5044.7720 - val_rotation_loss: 0.0000e+00 - val_class_loss: 16.7550 - val_rotation_categorical_accuracy: 0.0000e+00 - val_class_categorical_accuracy: 0.1004\n",
      "Epoch 7/20\n",
      "390/390 [==============================] - 30s 77ms/step - loss: 5206.0594 - rotation_loss: 3.8495 - class_loss: 0.0583 - rotation_categorical_accuracy: 0.2525 - class_categorical_accuracy: 0.1063 - val_loss: 5740.2949 - val_rotation_loss: 0.0000e+00 - val_class_loss: 19.2598 - val_rotation_categorical_accuracy: 0.0000e+00 - val_class_categorical_accuracy: 0.1004\n",
      "Epoch 8/20\n",
      "390/390 [==============================] - 30s 77ms/step - loss: 5897.9080 - rotation_loss: 5.3968 - class_loss: 0.0614 - rotation_categorical_accuracy: 0.2504 - class_categorical_accuracy: 0.0831 - val_loss: 6442.4976 - val_rotation_loss: 0.0000e+00 - val_class_loss: 16.3350 - val_rotation_categorical_accuracy: 0.0000e+00 - val_class_categorical_accuracy: 0.0999\n",
      "Epoch 9/20\n",
      "390/390 [==============================] - 30s 77ms/step - loss: 6611.9143 - rotation_loss: 6.9016 - class_loss: 0.0717 - rotation_categorical_accuracy: 0.2488 - class_categorical_accuracy: 0.1041 - val_loss: 7168.5063 - val_rotation_loss: 0.0000e+00 - val_class_loss: 14.9804 - val_rotation_categorical_accuracy: 0.0000e+00 - val_class_categorical_accuracy: 0.1008\n",
      "Epoch 10/20\n",
      "390/390 [==============================] - 30s 76ms/step - loss: 7342.3925 - rotation_loss: 7.3521 - class_loss: 0.0672 - rotation_categorical_accuracy: 0.2482 - class_categorical_accuracy: 0.1068 - val_loss: 7913.4155 - val_rotation_loss: 0.0000e+00 - val_class_loss: 13.9238 - val_rotation_categorical_accuracy: 0.0000e+00 - val_class_categorical_accuracy: 0.0999\n",
      "Epoch 11/20\n",
      "390/390 [==============================] - 30s 76ms/step - loss: 8090.6534 - rotation_loss: 9.4035 - class_loss: 0.0784 - rotation_categorical_accuracy: 0.2494 - class_categorical_accuracy: 0.1044 - val_loss: 8670.4795 - val_rotation_loss: 0.0000e+00 - val_class_loss: 17.6302 - val_rotation_categorical_accuracy: 1.0000 - val_class_categorical_accuracy: 0.1002\n",
      "Epoch 12/20\n",
      "390/390 [==============================] - 30s 76ms/step - loss: 8855.4699 - rotation_loss: 9.1102 - class_loss: 0.0952 - rotation_categorical_accuracy: 0.2493 - class_categorical_accuracy: 0.0842 - val_loss: 9466.2812 - val_rotation_loss: 0.0000e+00 - val_class_loss: 17.7931 - val_rotation_categorical_accuracy: 1.0000 - val_class_categorical_accuracy: 0.0991\n",
      "Epoch 13/20\n",
      "390/390 [==============================] - 30s 76ms/step - loss: 9652.5166 - rotation_loss: 10.4021 - class_loss: 0.0941 - rotation_categorical_accuracy: 0.2503 - class_categorical_accuracy: 0.0914 - val_loss: 10287.9609 - val_rotation_loss: 0.0000e+00 - val_class_loss: 23.1788 - val_rotation_categorical_accuracy: 0.0000e+00 - val_class_categorical_accuracy: 0.1003\n",
      "Epoch 14/20\n",
      "390/390 [==============================] - 30s 76ms/step - loss: 10474.6898 - rotation_loss: 12.2614 - class_loss: 0.1169 - rotation_categorical_accuracy: 0.2528 - class_categorical_accuracy: 0.1000 - val_loss: 11114.9404 - val_rotation_loss: 0.0000e+00 - val_class_loss: 27.0284 - val_rotation_categorical_accuracy: 0.0000e+00 - val_class_categorical_accuracy: 0.0997\n",
      "Epoch 15/20\n",
      "390/390 [==============================] - 30s 76ms/step - loss: 11308.6389 - rotation_loss: 10.5821 - class_loss: 0.1061 - rotation_categorical_accuracy: 0.2515 - class_categorical_accuracy: 0.0990 - val_loss: 11969.4746 - val_rotation_loss: 0.0000e+00 - val_class_loss: 22.3671 - val_rotation_categorical_accuracy: 1.0000 - val_class_categorical_accuracy: 0.0991\n",
      "Epoch 16/20\n",
      "390/390 [==============================] - 30s 76ms/step - loss: 12173.3684 - rotation_loss: 11.3293 - class_loss: 0.1140 - rotation_categorical_accuracy: 0.2490 - class_categorical_accuracy: 0.0957 - val_loss: 12857.7080 - val_rotation_loss: 0.0000e+00 - val_class_loss: 38.1336 - val_rotation_categorical_accuracy: 0.0000e+00 - val_class_categorical_accuracy: 0.1008\n",
      "Epoch 17/20\n",
      "390/390 [==============================] - 30s 76ms/step - loss: 13057.7650 - rotation_loss: 11.9715 - class_loss: 0.1220 - rotation_categorical_accuracy: 0.2489 - class_categorical_accuracy: 0.1106 - val_loss: 13779.3857 - val_rotation_loss: 0.0000e+00 - val_class_loss: 31.1932 - val_rotation_categorical_accuracy: 1.0000 - val_class_categorical_accuracy: 0.0995\n",
      "Epoch 18/20\n",
      "390/390 [==============================] - 30s 76ms/step - loss: 13977.7071 - rotation_loss: 13.0815 - class_loss: 0.1251 - rotation_categorical_accuracy: 0.2524 - class_categorical_accuracy: 0.0927 - val_loss: 14703.3271 - val_rotation_loss: 0.0000e+00 - val_class_loss: 20.7628 - val_rotation_categorical_accuracy: 0.0000e+00 - val_class_categorical_accuracy: 0.1004\n",
      "Epoch 19/20\n",
      "390/390 [==============================] - 30s 76ms/step - loss: 14906.6644 - rotation_loss: 12.5006 - class_loss: 0.1383 - rotation_categorical_accuracy: 0.2529 - class_categorical_accuracy: 0.1053 - val_loss: 15638.1562 - val_rotation_loss: 0.0000e+00 - val_class_loss: 20.7456 - val_rotation_categorical_accuracy: 0.0000e+00 - val_class_categorical_accuracy: 0.0999\n",
      "Epoch 20/20\n",
      " 78/390 [=====>........................] - ETA: 23s - loss: 15671.9270 - rotation_loss: 11.1972 - class_loss: 0.1112 - rotation_categorical_accuracy: 0.2488 - class_categorical_accuracy: 0.0913"
     ]
    }
   ],
   "source": [
    "history_2 = model.fit(my_training_batch_generator,\n",
    "                    validation_data = (my_validation_batch_generator),\n",
    "                    steps_per_epoch = int(200000 // batch_size),\n",
    "                    validation_steps = int(10000 // batch_size),\n",
    "                    epochs = 20)"
   ]
  },
  {
   "cell_type": "markdown",
   "metadata": {
    "id": "Pw0sBD0zjB0y"
   },
   "source": [
    "## loss_weights={'rotation': 0.01, 'cifar_class': 1}"
   ]
  },
  {
   "cell_type": "code",
   "execution_count": null,
   "metadata": {
    "id": "dHiCq1udhFCE"
   },
   "outputs": [],
   "source": [
    "input_shape = tf.keras.layers.Input((32,32,3))\n",
    "# input_shape = tf.keras.layers.Input(X_train[0].shape)\n",
    "\n",
    "# define regularization norm 2\n",
    "reg = keras.regularizers.l2(0.01)\n",
    "\n",
    "# create the base model\n",
    "# First convolutional layer\n",
    "x = tf.keras.layers.Conv2D(128, (3, 3), kernel_regularizer=reg,)(input_shape)\n",
    "x = tf.keras.layers.BatchNormalization()(x)\n",
    "x = tf.keras.layers.Activation('relu')(x)\n",
    "x = tf.keras.layers.MaxPooling2D(pool_size=(2, 2))(x)\n",
    "x = tf.keras.layers.Dropout(0.5)(x)\n",
    "\n",
    "# Second convolutional layer\n",
    "x = tf.keras.layers.Conv2D(128, (3, 3), kernel_regularizer=reg,)(input_shape)\n",
    "x = tf.keras.layers.BatchNormalization()(x)\n",
    "x = tf.keras.layers.Activation('relu')(x)\n",
    "x = tf.keras.layers.MaxPooling2D(pool_size=(2, 2))(x)\n",
    "x = tf.keras.layers.Dropout(0.5)(x)\n",
    "\n",
    "# Third convolutional layer\n",
    "x = tf.keras.layers.Conv2D(128, (3, 3), kernel_regularizer=reg,)(input_shape)\n",
    "x = tf.keras.layers.BatchNormalization()(x)\n",
    "x = tf.keras.layers.Activation('relu')(x)\n",
    "x = tf.keras.layers.MaxPooling2D(pool_size=(2, 2))(x)\n",
    "x = tf.keras.layers.Dropout(0.5)(x)\n",
    "\n",
    "\n",
    "# add a Flatten layer\n",
    "x = tf.keras.layers.Flatten()(x)\n",
    "\n",
    "# let's add fully-connected layers\n",
    "x = tf.keras.layers.Dense(1024, kernel_regularizer=reg)(x)\n",
    "x = tf.keras.layers.Activation('relu')(x)\n",
    "x = tf.keras.layers.BatchNormalization()(x)\n",
    "x = tf.keras.layers.Dropout(0.5)(x)\n",
    "\n",
    "x = tf.keras.layers.Dense(128, kernel_regularizer=reg)(x)\n",
    "x = tf.keras.layers.Activation('relu')(x)\n",
    "x = tf.keras.layers.BatchNormalization()(x)\n",
    "output = tf.keras.layers.Dropout(0.5)(x)\n",
    "\n",
    "# 1\n",
    "# output of 4 Rotation prediction classes [0, 90, 180, 270] degrees\n",
    "rotation_output = tf.keras.layers.Dense(units=4, activation='softmax', name='rotation', kernel_regularizer=reg)(output)\n",
    "\n",
    "# 2\n",
    "# output of 10 Cifar classes\n",
    "class_output = tf.keras.layers.Dense(units=10, activation='softmax', name='class', kernel_regularizer=reg)(output)\n",
    "\n",
    "\n",
    "model = tf.keras.models.Model(inputs=input_shape, outputs=[rotation_output, class_output])\n",
    "# model.summary()\n",
    "\n",
    "# compile the model\n",
    "model.compile(optimizer=keras.optimizers.Adam(learning_rate=0.008),\n",
    "              loss={'rotation':  keras.losses.CategoricalCrossentropy(),'class': keras.losses.CategoricalCrossentropy()},\n",
    "              metrics={'rotation':  keras.metrics.CategoricalAccuracy(),'class': keras.metrics.CategoricalAccuracy()},\n",
    "              loss_weights={'rotation': 0.01, 'class': 1})"
   ]
  },
  {
   "cell_type": "code",
   "execution_count": null,
   "metadata": {
    "colab": {
     "base_uri": "https://localhost:8080/"
    },
    "id": "R5Ljp_g3hSIt",
    "outputId": "77de444a-50ab-4ca0-8c76-d0437548a7a9"
   },
   "outputs": [
    {
     "name": "stdout",
     "output_type": "stream",
     "text": [
      "Epoch 1/20\n",
      "390/390 [==============================] - 32s 78ms/step - loss: 66.1527 - rotation_loss: 1.4849 - class_loss: 0.0119 - rotation_categorical_accuracy: 0.2654 - class_categorical_accuracy: 0.0650 - val_loss: 389.8590 - val_rotation_loss: 0.0000e+00 - val_class_loss: 2.9667 - val_rotation_categorical_accuracy: 0.6743 - val_class_categorical_accuracy: 0.1081\n",
      "Epoch 2/20\n",
      "390/390 [==============================] - 30s 77ms/step - loss: 595.7326 - rotation_loss: 1.6461 - class_loss: 0.0132 - rotation_categorical_accuracy: 0.2548 - class_categorical_accuracy: 0.0796 - val_loss: 1329.4703 - val_rotation_loss: 0.0000e+00 - val_class_loss: 2.3583 - val_rotation_categorical_accuracy: 0.0000e+00 - val_class_categorical_accuracy: 0.0926\n",
      "Epoch 3/20\n",
      "390/390 [==============================] - 30s 77ms/step - loss: 1643.1824 - rotation_loss: 2.1535 - class_loss: 0.0139 - rotation_categorical_accuracy: 0.2517 - class_categorical_accuracy: 0.0806 - val_loss: 2674.8860 - val_rotation_loss: 0.0000e+00 - val_class_loss: 2.3410 - val_rotation_categorical_accuracy: 0.0000e+00 - val_class_categorical_accuracy: 0.0985\n",
      "Epoch 4/20\n",
      "390/390 [==============================] - 30s 77ms/step - loss: 3017.5322 - rotation_loss: 2.5294 - class_loss: 0.0220 - rotation_categorical_accuracy: 0.2485 - class_categorical_accuracy: 0.0806 - val_loss: 3896.1426 - val_rotation_loss: 0.0000e+00 - val_class_loss: 12.8408 - val_rotation_categorical_accuracy: 0.0000e+00 - val_class_categorical_accuracy: 0.1008\n",
      "Epoch 5/20\n",
      "390/390 [==============================] - 30s 77ms/step - loss: 4108.4284 - rotation_loss: 2.9780 - class_loss: 0.0433 - rotation_categorical_accuracy: 0.2503 - class_categorical_accuracy: 0.1101 - val_loss: 4728.4658 - val_rotation_loss: 0.0000e+00 - val_class_loss: 8.4050 - val_rotation_categorical_accuracy: 1.0000 - val_class_categorical_accuracy: 0.1008\n",
      "Epoch 6/20\n",
      "390/390 [==============================] - 30s 77ms/step - loss: 4920.8788 - rotation_loss: 3.9089 - class_loss: 0.0530 - rotation_categorical_accuracy: 0.2505 - class_categorical_accuracy: 0.1144 - val_loss: 5512.1958 - val_rotation_loss: 0.0000e+00 - val_class_loss: 12.5597 - val_rotation_categorical_accuracy: 0.0000e+00 - val_class_categorical_accuracy: 0.1003\n",
      "Epoch 7/20\n",
      "390/390 [==============================] - 30s 77ms/step - loss: 5683.4230 - rotation_loss: 4.8819 - class_loss: 0.0498 - rotation_categorical_accuracy: 0.2512 - class_categorical_accuracy: 0.1003 - val_loss: 6246.0044 - val_rotation_loss: 0.0000e+00 - val_class_loss: 12.4928 - val_rotation_categorical_accuracy: 0.0000e+00 - val_class_categorical_accuracy: 0.0994\n",
      "Epoch 8/20\n",
      "390/390 [==============================] - 30s 77ms/step - loss: 6434.9398 - rotation_loss: 6.4801 - class_loss: 0.0654 - rotation_categorical_accuracy: 0.2536 - class_categorical_accuracy: 0.1019 - val_loss: 7032.7285 - val_rotation_loss: 0.0000e+00 - val_class_loss: 15.1409 - val_rotation_categorical_accuracy: 0.0000e+00 - val_class_categorical_accuracy: 0.0997\n",
      "Epoch 9/20\n",
      "390/390 [==============================] - 30s 77ms/step - loss: 7213.0159 - rotation_loss: 7.9595 - class_loss: 0.0655 - rotation_categorical_accuracy: 0.2497 - class_categorical_accuracy: 0.0910 - val_loss: 7806.3945 - val_rotation_loss: 0.0000e+00 - val_class_loss: 23.0846 - val_rotation_categorical_accuracy: 0.0000e+00 - val_class_categorical_accuracy: 0.0997\n",
      "Epoch 10/20\n",
      "390/390 [==============================] - 30s 78ms/step - loss: 7991.5798 - rotation_loss: 8.3390 - class_loss: 0.0735 - rotation_categorical_accuracy: 0.2518 - class_categorical_accuracy: 0.1002 - val_loss: 8623.3877 - val_rotation_loss: 0.0000e+00 - val_class_loss: 31.7760 - val_rotation_categorical_accuracy: 0.0000e+00 - val_class_categorical_accuracy: 0.1003\n",
      "Epoch 11/20\n",
      "390/390 [==============================] - 30s 77ms/step - loss: 8788.3054 - rotation_loss: 8.5308 - class_loss: 0.0855 - rotation_categorical_accuracy: 0.2505 - class_categorical_accuracy: 0.1092 - val_loss: 9426.7305 - val_rotation_loss: 0.0000e+00 - val_class_loss: 27.8464 - val_rotation_categorical_accuracy: 1.0000 - val_class_categorical_accuracy: 0.1003\n",
      "Epoch 12/20\n",
      "390/390 [==============================] - 30s 77ms/step - loss: 9606.6128 - rotation_loss: 7.0210 - class_loss: 0.0986 - rotation_categorical_accuracy: 0.2525 - class_categorical_accuracy: 0.0935 - val_loss: 10281.9443 - val_rotation_loss: 0.0000e+00 - val_class_loss: 20.4979 - val_rotation_categorical_accuracy: 1.0000 - val_class_categorical_accuracy: 0.1003\n",
      "Epoch 13/20\n",
      "390/390 [==============================] - 30s 78ms/step - loss: 10463.2478 - rotation_loss: 7.4872 - class_loss: 0.0892 - rotation_categorical_accuracy: 0.2527 - class_categorical_accuracy: 0.1048 - val_loss: 11130.2295 - val_rotation_loss: 0.0000e+00 - val_class_loss: 27.9904 - val_rotation_categorical_accuracy: 0.0000e+00 - val_class_categorical_accuracy: 0.1004\n",
      "Epoch 14/20\n",
      "390/390 [==============================] - 30s 78ms/step - loss: 11337.6105 - rotation_loss: 7.9281 - class_loss: 0.1026 - rotation_categorical_accuracy: 0.2525 - class_categorical_accuracy: 0.0925 - val_loss: 12025.7627 - val_rotation_loss: 0.0000e+00 - val_class_loss: 18.3515 - val_rotation_categorical_accuracy: 1.0000 - val_class_categorical_accuracy: 0.1004\n",
      "Epoch 15/20\n",
      "390/390 [==============================] - 30s 77ms/step - loss: 12235.9847 - rotation_loss: 10.4916 - class_loss: 0.1078 - rotation_categorical_accuracy: 0.2518 - class_categorical_accuracy: 0.0986 - val_loss: 12967.4297 - val_rotation_loss: 0.0000e+00 - val_class_loss: 44.4389 - val_rotation_categorical_accuracy: 0.0000e+00 - val_class_categorical_accuracy: 0.1002\n",
      "Epoch 16/20\n",
      "390/390 [==============================] - 30s 77ms/step - loss: 13146.6158 - rotation_loss: 12.1535 - class_loss: 0.1255 - rotation_categorical_accuracy: 0.2535 - class_categorical_accuracy: 0.1016 - val_loss: 13840.4473 - val_rotation_loss: 0.0000e+00 - val_class_loss: 13.3294 - val_rotation_categorical_accuracy: 0.0000e+00 - val_class_categorical_accuracy: 0.1008\n",
      "Epoch 17/20\n",
      "390/390 [==============================] - 30s 77ms/step - loss: 14071.8815 - rotation_loss: 14.2205 - class_loss: 0.1152 - rotation_categorical_accuracy: 0.2509 - class_categorical_accuracy: 0.1057 - val_loss: 14854.2266 - val_rotation_loss: 0.0000e+00 - val_class_loss: 38.0552 - val_rotation_categorical_accuracy: 0.0000e+00 - val_class_categorical_accuracy: 0.1002\n",
      "Epoch 18/20\n",
      "390/390 [==============================] - 30s 77ms/step - loss: 15064.9297 - rotation_loss: 13.3944 - class_loss: 0.1216 - rotation_categorical_accuracy: 0.2515 - class_categorical_accuracy: 0.1017 - val_loss: 15818.0098 - val_rotation_loss: 0.0000e+00 - val_class_loss: 26.0852 - val_rotation_categorical_accuracy: 1.0000 - val_class_categorical_accuracy: 0.0991\n",
      "Epoch 19/20\n",
      "390/390 [==============================] - 30s 77ms/step - loss: 16048.6848 - rotation_loss: 14.2857 - class_loss: 0.1223 - rotation_categorical_accuracy: 0.2514 - class_categorical_accuracy: 0.0996 - val_loss: 16846.7852 - val_rotation_loss: 0.0000e+00 - val_class_loss: 29.6432 - val_rotation_categorical_accuracy: 0.0000e+00 - val_class_categorical_accuracy: 0.0997\n",
      "Epoch 20/20\n",
      "390/390 [==============================] - 30s 77ms/step - loss: 17075.8364 - rotation_loss: 14.3482 - class_loss: 0.1314 - rotation_categorical_accuracy: 0.2490 - class_categorical_accuracy: 0.0986 - val_loss: 17892.9590 - val_rotation_loss: 0.0000e+00 - val_class_loss: 40.0263 - val_rotation_categorical_accuracy: 0.0000e+00 - val_class_categorical_accuracy: 0.1004\n"
     ]
    }
   ],
   "source": [
    "history_3 = model.fit(my_training_batch_generator,\n",
    "                    validation_data = (my_validation_batch_generator),\n",
    "                    steps_per_epoch = int(200000 // batch_size),\n",
    "                    validation_steps = int(10000 // batch_size),\n",
    "                    epochs = 20)"
   ]
  },
  {
   "cell_type": "markdown",
   "metadata": {
    "id": "Wvc0Nc9nkM4t"
   },
   "source": [
    "## loss_weights={'rotation': 0.3, 'class': 0.7}"
   ]
  },
  {
   "cell_type": "code",
   "execution_count": null,
   "metadata": {
    "id": "nD5Dr4_sj_sF"
   },
   "outputs": [],
   "source": [
    "input_shape = tf.keras.layers.Input((32,32,3))\n",
    "# input_shape = tf.keras.layers.Input(X_train[0].shape)\n",
    "\n",
    "# define regularization norm 2\n",
    "reg = keras.regularizers.l2(0.01)\n",
    "\n",
    "# create the base model\n",
    "# First convolutional layer\n",
    "x = tf.keras.layers.Conv2D(128, (3, 3), kernel_regularizer=reg,)(input_shape)\n",
    "x = tf.keras.layers.BatchNormalization()(x)\n",
    "x = tf.keras.layers.Activation('relu')(x)\n",
    "x = tf.keras.layers.MaxPooling2D(pool_size=(2, 2))(x)\n",
    "x = tf.keras.layers.Dropout(0.5)(x)\n",
    "\n",
    "# Second convolutional layer\n",
    "x = tf.keras.layers.Conv2D(128, (3, 3), kernel_regularizer=reg,)(input_shape)\n",
    "x = tf.keras.layers.BatchNormalization()(x)\n",
    "x = tf.keras.layers.Activation('relu')(x)\n",
    "x = tf.keras.layers.MaxPooling2D(pool_size=(2, 2))(x)\n",
    "x = tf.keras.layers.Dropout(0.5)(x)\n",
    "\n",
    "# Third convolutional layer\n",
    "x = tf.keras.layers.Conv2D(128, (3, 3), kernel_regularizer=reg,)(input_shape)\n",
    "x = tf.keras.layers.BatchNormalization()(x)\n",
    "x = tf.keras.layers.Activation('relu')(x)\n",
    "x = tf.keras.layers.MaxPooling2D(pool_size=(2, 2))(x)\n",
    "x = tf.keras.layers.Dropout(0.5)(x)\n",
    "\n",
    "\n",
    "# add a Flatten layer\n",
    "x = tf.keras.layers.Flatten()(x)\n",
    "\n",
    "# let's add fully-connected layers\n",
    "x = tf.keras.layers.Dense(1024, kernel_regularizer=reg)(x)\n",
    "x = tf.keras.layers.Activation('relu')(x)\n",
    "x = tf.keras.layers.BatchNormalization()(x)\n",
    "x = tf.keras.layers.Dropout(0.5)(x)\n",
    "\n",
    "x = tf.keras.layers.Dense(128, kernel_regularizer=reg)(x)\n",
    "x = tf.keras.layers.Activation('relu')(x)\n",
    "x = tf.keras.layers.BatchNormalization()(x)\n",
    "output = tf.keras.layers.Dropout(0.5)(x)\n",
    "\n",
    "# 1\n",
    "# output of 4 Rotation prediction classes [0, 90, 180, 270] degrees\n",
    "rotation_output = tf.keras.layers.Dense(units=4, activation='softmax', name='rotation', kernel_regularizer=reg)(output)\n",
    "\n",
    "# 2\n",
    "# output of 10 Cifar classes\n",
    "class_output = tf.keras.layers.Dense(units=10, activation='softmax', name='class', kernel_regularizer=reg)(output)\n",
    "\n",
    "\n",
    "model = tf.keras.models.Model(inputs=input_shape, outputs=[rotation_output, class_output])\n",
    "# model.summary()\n",
    "\n",
    "# compile the model\n",
    "model.compile(optimizer=keras.optimizers.Adam(learning_rate=0.008),\n",
    "              loss={'rotation':  keras.losses.CategoricalCrossentropy(),'class': keras.losses.CategoricalCrossentropy()},\n",
    "              metrics={'rotation':  keras.metrics.CategoricalAccuracy(),'class': keras.metrics.CategoricalAccuracy()},\n",
    "              loss_weights={'rotation': 0.3, 'class': 0.7})"
   ]
  },
  {
   "cell_type": "code",
   "execution_count": null,
   "metadata": {
    "colab": {
     "base_uri": "https://localhost:8080/"
    },
    "id": "zFecRvcekAYn",
    "outputId": "9bcfa183-8265-4c60-8250-dced39277fdf"
   },
   "outputs": [
    {
     "name": "stdout",
     "output_type": "stream",
     "text": [
      "Epoch 1/20\n",
      "390/390 [==============================] - 64s 77ms/step - loss: 58.1496 - rotation_loss: 1.4697 - class_loss: 0.0105 - rotation_categorical_accuracy: 0.3047 - class_categorical_accuracy: 0.0761 - val_loss: 365.5601 - val_rotation_loss: 0.0000e+00 - val_class_loss: 2.4553 - val_rotation_categorical_accuracy: 0.0000e+00 - val_class_categorical_accuracy: 0.1055\n",
      "Epoch 2/20\n",
      "390/390 [==============================] - 29s 75ms/step - loss: 569.5083 - rotation_loss: 1.6526 - class_loss: 0.0136 - rotation_categorical_accuracy: 0.2550 - class_categorical_accuracy: 0.0869 - val_loss: 1303.7145 - val_rotation_loss: 0.0000e+00 - val_class_loss: 2.3333 - val_rotation_categorical_accuracy: 1.0000 - val_class_categorical_accuracy: 0.0922\n",
      "Epoch 3/20\n",
      "390/390 [==============================] - 29s 75ms/step - loss: 1607.6588 - rotation_loss: 2.0542 - class_loss: 0.0129 - rotation_categorical_accuracy: 0.2494 - class_categorical_accuracy: 0.0843 - val_loss: 2579.7051 - val_rotation_loss: 0.0000e+00 - val_class_loss: 6.6014 - val_rotation_categorical_accuracy: 0.0000e+00 - val_class_categorical_accuracy: 0.0996\n",
      "Epoch 4/20\n",
      "390/390 [==============================] - 29s 75ms/step - loss: 2806.2239 - rotation_loss: 2.6596 - class_loss: 0.0336 - rotation_categorical_accuracy: 0.2519 - class_categorical_accuracy: 0.0926 - val_loss: 3387.5271 - val_rotation_loss: 0.0000e+00 - val_class_loss: 9.6310 - val_rotation_categorical_accuracy: 0.0000e+00 - val_class_categorical_accuracy: 0.0999\n",
      "Epoch 5/20\n",
      "390/390 [==============================] - 29s 75ms/step - loss: 3536.7837 - rotation_loss: 2.9820 - class_loss: 0.0431 - rotation_categorical_accuracy: 0.2504 - class_categorical_accuracy: 0.1074 - val_loss: 4028.9868 - val_rotation_loss: 0.0000e+00 - val_class_loss: 14.1608 - val_rotation_categorical_accuracy: 0.0000e+00 - val_class_categorical_accuracy: 0.0996\n",
      "Epoch 6/20\n",
      "390/390 [==============================] - 29s 75ms/step - loss: 4186.7189 - rotation_loss: 4.5433 - class_loss: 0.0464 - rotation_categorical_accuracy: 0.2508 - class_categorical_accuracy: 0.0953 - val_loss: 4667.5908 - val_rotation_loss: 0.0000e+00 - val_class_loss: 9.3119 - val_rotation_categorical_accuracy: 0.0000e+00 - val_class_categorical_accuracy: 0.1010\n",
      "Epoch 7/20\n",
      "390/390 [==============================] - 29s 75ms/step - loss: 4830.7021 - rotation_loss: 5.6752 - class_loss: 0.0592 - rotation_categorical_accuracy: 0.2493 - class_categorical_accuracy: 0.1047 - val_loss: 5348.0220 - val_rotation_loss: 0.0000e+00 - val_class_loss: 14.9243 - val_rotation_categorical_accuracy: 0.0000e+00 - val_class_categorical_accuracy: 0.1010\n",
      "Epoch 8/20\n",
      "390/390 [==============================] - 29s 75ms/step - loss: 5502.8015 - rotation_loss: 4.9284 - class_loss: 0.0573 - rotation_categorical_accuracy: 0.2505 - class_categorical_accuracy: 0.0996 - val_loss: 6014.6421 - val_rotation_loss: 0.0000e+00 - val_class_loss: 11.7129 - val_rotation_categorical_accuracy: 0.0000e+00 - val_class_categorical_accuracy: 0.1001\n",
      "Epoch 9/20\n",
      "390/390 [==============================] - 30s 76ms/step - loss: 6172.2656 - rotation_loss: 7.1626 - class_loss: 0.0734 - rotation_categorical_accuracy: 0.2496 - class_categorical_accuracy: 0.0948 - val_loss: 6689.7529 - val_rotation_loss: 0.0000e+00 - val_class_loss: 18.1822 - val_rotation_categorical_accuracy: 0.0000e+00 - val_class_categorical_accuracy: 0.0998\n",
      "Epoch 10/20\n",
      "390/390 [==============================] - 30s 76ms/step - loss: 6855.2006 - rotation_loss: 8.5302 - class_loss: 0.0801 - rotation_categorical_accuracy: 0.2525 - class_categorical_accuracy: 0.0988 - val_loss: 7386.9639 - val_rotation_loss: 0.0000e+00 - val_class_loss: 25.3840 - val_rotation_categorical_accuracy: 1.0000 - val_class_categorical_accuracy: 0.0998\n",
      "Epoch 11/20\n",
      "390/390 [==============================] - 29s 76ms/step - loss: 7557.0795 - rotation_loss: 9.2665 - class_loss: 0.0753 - rotation_categorical_accuracy: 0.2503 - class_categorical_accuracy: 0.1078 - val_loss: 8138.3892 - val_rotation_loss: 0.0000e+00 - val_class_loss: 20.0802 - val_rotation_categorical_accuracy: 0.0000e+00 - val_class_categorical_accuracy: 0.0994\n",
      "Epoch 12/20\n",
      "390/390 [==============================] - 30s 76ms/step - loss: 8305.1246 - rotation_loss: 8.2111 - class_loss: 0.0976 - rotation_categorical_accuracy: 0.2487 - class_categorical_accuracy: 0.0877 - val_loss: 8890.1631 - val_rotation_loss: 0.0000e+00 - val_class_loss: 24.3173 - val_rotation_categorical_accuracy: 0.0000e+00 - val_class_categorical_accuracy: 0.0998\n",
      "Epoch 13/20\n",
      "390/390 [==============================] - 29s 75ms/step - loss: 9071.6508 - rotation_loss: 10.9568 - class_loss: 0.0972 - rotation_categorical_accuracy: 0.2503 - class_categorical_accuracy: 0.0975 - val_loss: 9663.4717 - val_rotation_loss: 0.0000e+00 - val_class_loss: 24.6709 - val_rotation_categorical_accuracy: 0.0000e+00 - val_class_categorical_accuracy: 0.1000\n",
      "Epoch 14/20\n",
      "390/390 [==============================] - 29s 76ms/step - loss: 9847.6468 - rotation_loss: 10.1304 - class_loss: 0.1006 - rotation_categorical_accuracy: 0.2489 - class_categorical_accuracy: 0.1097 - val_loss: 10467.5635 - val_rotation_loss: 0.0000e+00 - val_class_loss: 21.4640 - val_rotation_categorical_accuracy: 0.0000e+00 - val_class_categorical_accuracy: 0.1000\n",
      "Epoch 15/20\n",
      "390/390 [==============================] - 30s 76ms/step - loss: 10656.8702 - rotation_loss: 12.1813 - class_loss: 0.1135 - rotation_categorical_accuracy: 0.2499 - class_categorical_accuracy: 0.0944 - val_loss: 11289.0811 - val_rotation_loss: 0.0000e+00 - val_class_loss: 26.4787 - val_rotation_categorical_accuracy: 0.0000e+00 - val_class_categorical_accuracy: 0.0995\n",
      "Epoch 16/20\n",
      "390/390 [==============================] - 30s 76ms/step - loss: 11480.2269 - rotation_loss: 11.6368 - class_loss: 0.1096 - rotation_categorical_accuracy: 0.2485 - class_categorical_accuracy: 0.1026 - val_loss: 12123.0547 - val_rotation_loss: 0.0000e+00 - val_class_loss: 24.4077 - val_rotation_categorical_accuracy: 1.0000 - val_class_categorical_accuracy: 0.0995\n",
      "Epoch 17/20\n",
      "390/390 [==============================] - 30s 76ms/step - loss: 12320.9467 - rotation_loss: 11.2599 - class_loss: 0.1192 - rotation_categorical_accuracy: 0.2516 - class_categorical_accuracy: 0.1047 - val_loss: 12993.3896 - val_rotation_loss: 0.0000e+00 - val_class_loss: 35.1512 - val_rotation_categorical_accuracy: 1.0000 - val_class_categorical_accuracy: 0.1010\n",
      "Epoch 18/20\n",
      "390/390 [==============================] - 30s 76ms/step - loss: 13203.7085 - rotation_loss: 12.7580 - class_loss: 0.1196 - rotation_categorical_accuracy: 0.2498 - class_categorical_accuracy: 0.1106 - val_loss: 13894.4395 - val_rotation_loss: 0.0000e+00 - val_class_loss: 33.0184 - val_rotation_categorical_accuracy: 1.0000 - val_class_categorical_accuracy: 0.0996\n",
      "Epoch 19/20\n",
      "390/390 [==============================] - 30s 76ms/step - loss: 14099.1107 - rotation_loss: 14.3679 - class_loss: 0.1271 - rotation_categorical_accuracy: 0.2522 - class_categorical_accuracy: 0.1045 - val_loss: 14798.7021 - val_rotation_loss: 0.0000e+00 - val_class_loss: 22.7024 - val_rotation_categorical_accuracy: 0.0000e+00 - val_class_categorical_accuracy: 0.1000\n",
      "Epoch 20/20\n",
      "390/390 [==============================] - 30s 76ms/step - loss: 15027.9796 - rotation_loss: 15.4579 - class_loss: 0.1356 - rotation_categorical_accuracy: 0.2493 - class_categorical_accuracy: 0.0955 - val_loss: 15764.9717 - val_rotation_loss: 0.0000e+00 - val_class_loss: 56.3679 - val_rotation_categorical_accuracy: 0.0000e+00 - val_class_categorical_accuracy: 0.1005\n"
     ]
    }
   ],
   "source": [
    "history_4 = model.fit(my_training_batch_generator,\n",
    "                    validation_data = (my_validation_batch_generator),\n",
    "                    steps_per_epoch = int(200000 // batch_size),\n",
    "                    validation_steps = int(10000 // batch_size),\n",
    "                    epochs = 20)"
   ]
  }
 ],
 "metadata": {
  "accelerator": "GPU",
  "colab": {
   "collapsed_sections": [
    "vY3xWCNWwCZq",
    "Jb7-Dp0xyFht",
    "9jecWxyVw5Rc"
   ],
   "name": "DL_Assignment09_partC.ipynb",
   "provenance": [],
   "toc_visible": true
  },
  "kernelspec": {
   "display_name": "Python 3",
   "language": "python",
   "name": "python3"
  },
  "language_info": {
   "codemirror_mode": {
    "name": "ipython",
    "version": 3
   },
   "file_extension": ".py",
   "mimetype": "text/x-python",
   "name": "python",
   "nbconvert_exporter": "python",
   "pygments_lexer": "ipython3",
   "version": "3.9.2"
  }
 },
 "nbformat": 4,
 "nbformat_minor": 1
}
